{
 "cells": [
  {
   "cell_type": "code",
   "execution_count": 1,
   "metadata": {},
   "outputs": [],
   "source": [
    "# libraries\n",
    "import numpy as np\n",
    "import pandas as pd\n",
    "import altair as alt"
   ]
  },
  {
   "attachments": {},
   "cell_type": "markdown",
   "metadata": {},
   "source": [
    "# PSTAT 100 Project plan"
   ]
  },
  {
   "attachments": {},
   "cell_type": "markdown",
   "metadata": {},
   "source": [
    "## Group information\n",
    "\n",
    "**Group members**:\n",
    "\n",
    "**Yibo Liang**, **Aarya Kulkarni**, **Alan Su**, and **Nicole Magallanes Flores**\n",
    "\n",
    "**Contributions**:\n",
    "1. Alan Su: worked on finding data and data background (Part 0)\n",
    "2. Yibo Liang: worked on tidying the dataset/initial exploration (Part 2)\n",
    "3. Aarya Kulkarni: worked on data description (Part 1)\n",
    "4. Nicole Magallanes Flores: worked on planned work (Part 3)"
   ]
  },
  {
   "cell_type": "markdown",
   "metadata": {},
   "source": [
    "### Background"
   ]
  },
  {
   "cell_type": "markdown",
   "metadata": {},
   "source": [
    "Education is an important issue in every country around the world, as it is with education that people can innovate and drive their country forward. But while education is obviously important to many people, not everyone is able to have access to an education. Some countries may not have the resources to put every citizen through school, or some countries may have the resources, but for example, people that live in rural areas might choose not to go through education in favor of continuing a family business or pursuing their own economic endeavors.\n",
    "\n",
    "The dataset that we have chosen to work with is a dataset taken from [The World Bank's data catalog](https://datacatalog.worldbank.org/search/dataset/0038973/Education-Attainment-and-Enrollment-around-the-World), their dataset on educational attainment and enrollment around the world. This dataset takes data from many types of surveys from all around the world in order to get data on things such as socioeconomic conditions, or living standards such as rural or urban. Using this data, we will explore how educational attainment is affected by conditions such as wealth, gender, and living location, and can use this information to advocate for better educational attainment standards everywhere in the world. Is the world bank right when they say that there are large differences in educational attainment by wealth? Will gender and living standards affect a person's educational attainment? Using this data, we plan on looking into these questions and hope to gain a better understanding of what educational attainment is like around the world.\n"
   ]
  },
  {
   "cell_type": "markdown",
   "metadata": {},
   "source": [
    "---\n",
    "## 1. Data description\n"
   ]
  },
  {
   "cell_type": "markdown",
   "metadata": {},
   "source": [
    "The data describes the percentage of population ages 15 to 19 that has completed each grade (1-9) in developing countries around the world spanning multiple years (1990-2020). \n",
    "\n",
    "This data came from a World Bank database with summary information on education level attained, taken from household surveys from developing countries around the world (http://www.worldbank.org/en/research/brief/edattain). Household-based surveys used to create this dataset include: Demographic and Health Surveys (DHS- http://www.measuredhs.com), Multiple Indicator Cluster Surveys (MICS- http://www.childinfo.org), Living Standards Measurements Study Surveys (LSMS- http://www.worldbank.org/lsms), and other household-based surveys (country specific), ex: socio-economic surveys. In addition to these household-based surveys, selected country/year variables were added to the dataset from the World Development Indicators database (http://databank.worldbank.org). Some variables added include gdp per capita (based on 2015 U.S. dollars) and the consumer price index (based on 2010) for various countries. \n",
    "\n",
    "The relevant population is the population ages 15-19 in the countries surveyed. Since the dataset is aggregated from multiple surveys. Some documentation was provided on two of the types of household surveys performed. \n",
    "\n",
    "The Demographic and Health Surveys (DHS) used a mix of questionnaires, biomarkers, and geographic information as survey tools to conduct this survey. This survey's sampling design consisted of a two-stage stratified cluster design in which Enumeration Areas (areas canvased) were drawn from Census files (stage 1), followed by a sample of households being drawn from a list in each Enumeration Area (stage 2). \n",
    "\n",
    "The Living Standards Measurement Study Surveys (LSMS)'s sample frame is given by the Population and Housing Census. Following this, a two round sampling method is used. The first round selects Primary Selection Units (PSU) through random sampling. The second round selects subunits from each PSU using a method of systematic sampling. \n",
    "\n",
    "Since the sampling frame is usually given by the country's Census, and the sampling mechanism involved random sampling, we can say that the scope of inference are the households captured in the Census."
   ]
  },
  {
   "attachments": {},
   "cell_type": "markdown",
   "metadata": {},
   "source": [
    "### Data semantics and structure\n",
    "\n",
    "**Units and observations**: The observational units are 82 unique countries around the world from 1990 to 2020.\n",
    "\n",
    "**Variable descriptions**:\n",
    "\n",
    "Name | Variable description | Type | Units of measurement\n",
    "---|---|---|---\n",
    "country | observation country | Character | Name of Country \n",
    "year | year of observation | Numeric | Calendar year \n",
    "gdppc2015 | gdp per capita (2015 U.S. dollars) | Numeric | gdppc \n",
    "cpi2010 | consumer price index (Based on 2010) | Numeric | cpi(hundreds) \n",
    "level | level of education | Numeric | grade \n",
    "sex | sex of the group of children aged 15-19 | Factor | male/female \n",
    "location | the location of the group of children aged 15-19 | Factor | urban/rural \n",
    "prop| proportion of the group of children aged 15-19 that attained an education | Numeric | percentage \n",
    "\n",
    "\n",
    "**Example rows**:"
   ]
  },
  {
   "cell_type": "code",
   "execution_count": 2,
   "metadata": {},
   "outputs": [
    {
     "data": {
      "text/html": [
       "<div>\n",
       "<style scoped>\n",
       "    .dataframe tbody tr th:only-of-type {\n",
       "        vertical-align: middle;\n",
       "    }\n",
       "\n",
       "    .dataframe tbody tr th {\n",
       "        vertical-align: top;\n",
       "    }\n",
       "\n",
       "    .dataframe thead th {\n",
       "        text-align: right;\n",
       "    }\n",
       "</style>\n",
       "<table border=\"1\" class=\"dataframe\">\n",
       "  <thead>\n",
       "    <tr style=\"text-align: right;\">\n",
       "      <th></th>\n",
       "      <th>country</th>\n",
       "      <th>year</th>\n",
       "      <th>gdppc2015</th>\n",
       "      <th>cpi2010</th>\n",
       "      <th>location</th>\n",
       "      <th>sex</th>\n",
       "      <th>level</th>\n",
       "      <th>prop</th>\n",
       "    </tr>\n",
       "  </thead>\n",
       "  <tbody>\n",
       "    <tr>\n",
       "      <th>0</th>\n",
       "      <td>Afghanistan</td>\n",
       "      <td>2015</td>\n",
       "      <td>556.007</td>\n",
       "      <td>132.883</td>\n",
       "      <td>Urban</td>\n",
       "      <td>Male</td>\n",
       "      <td>1</td>\n",
       "      <td>0.926</td>\n",
       "    </tr>\n",
       "    <tr>\n",
       "      <th>1</th>\n",
       "      <td>Afghanistan</td>\n",
       "      <td>2007</td>\n",
       "      <td>392.710</td>\n",
       "      <td>83.074</td>\n",
       "      <td>Urban</td>\n",
       "      <td>Male</td>\n",
       "      <td>1</td>\n",
       "      <td>0.846</td>\n",
       "    </tr>\n",
       "    <tr>\n",
       "      <th>2</th>\n",
       "      <td>Afghanistan</td>\n",
       "      <td>2010</td>\n",
       "      <td>526.104</td>\n",
       "      <td>100.000</td>\n",
       "      <td>Urban</td>\n",
       "      <td>Male</td>\n",
       "      <td>1</td>\n",
       "      <td>0.862</td>\n",
       "    </tr>\n",
       "    <tr>\n",
       "      <th>3</th>\n",
       "      <td>Angola</td>\n",
       "      <td>2015</td>\n",
       "      <td>4166.980</td>\n",
       "      <td>159.405</td>\n",
       "      <td>Urban</td>\n",
       "      <td>Male</td>\n",
       "      <td>1</td>\n",
       "      <td>0.976</td>\n",
       "    </tr>\n",
       "    <tr>\n",
       "      <th>4</th>\n",
       "      <td>Angola</td>\n",
       "      <td>1999</td>\n",
       "      <td>2458.096</td>\n",
       "      <td>0.684</td>\n",
       "      <td>Urban</td>\n",
       "      <td>Male</td>\n",
       "      <td>1</td>\n",
       "      <td>NaN</td>\n",
       "    </tr>\n",
       "  </tbody>\n",
       "</table>\n",
       "</div>"
      ],
      "text/plain": [
       "       country  year  gdppc2015  cpi2010 location   sex  level   prop\n",
       "0  Afghanistan  2015    556.007  132.883    Urban  Male      1  0.926\n",
       "1  Afghanistan  2007    392.710   83.074    Urban  Male      1  0.846\n",
       "2  Afghanistan  2010    526.104  100.000    Urban  Male      1  0.862\n",
       "3       Angola  2015   4166.980  159.405    Urban  Male      1  0.976\n",
       "4       Angola  1999   2458.096    0.684    Urban  Male      1    NaN"
      ]
     },
     "execution_count": 2,
     "metadata": {},
     "output_type": "execute_result"
    }
   ],
   "source": [
    "# load tidied data and print rows\n",
    "data_tidy = pd.read_csv('../data/tidy_data.csv').drop(columns='Unnamed: 0')\n",
    "data_tidy.head(5)"
   ]
  },
  {
   "cell_type": "markdown",
   "metadata": {},
   "source": [
    "---\n",
    "## 2. Initial explorations"
   ]
  },
  {
   "cell_type": "markdown",
   "metadata": {},
   "source": [
    "### Basic properties of the dataset\n"
   ]
  },
  {
   "cell_type": "markdown",
   "metadata": {},
   "source": [
    "#### **Dimensions:**"
   ]
  },
  {
   "cell_type": "code",
   "execution_count": 3,
   "metadata": {},
   "outputs": [
    {
     "data": {
      "text/plain": [
       "(22536, 8)"
      ]
     },
     "execution_count": 3,
     "metadata": {},
     "output_type": "execute_result"
    }
   ],
   "source": [
    "data_tidy.shape"
   ]
  },
  {
   "cell_type": "markdown",
   "metadata": {},
   "source": [
    "The tidy data has 22536 rows and 8 columns."
   ]
  },
  {
   "cell_type": "markdown",
   "metadata": {},
   "source": [
    "#### **Missing Data:**"
   ]
  },
  {
   "cell_type": "code",
   "execution_count": 4,
   "metadata": {},
   "outputs": [
    {
     "data": {
      "text/plain": [
       "country      0.000000\n",
       "year         0.000000\n",
       "gdppc2015    0.011182\n",
       "cpi2010      0.070288\n",
       "location     0.000000\n",
       "sex          0.000000\n",
       "level        0.000000\n",
       "prop         0.015974\n",
       "dtype: float64"
      ]
     },
     "execution_count": 4,
     "metadata": {},
     "output_type": "execute_result"
    }
   ],
   "source": [
    "data_tidy.isna().mean()"
   ]
  },
  {
   "cell_type": "markdown",
   "metadata": {},
   "source": [
    "There are so missingness in our tidy data. Specifically, `gdppc2015` is missing about 1.1% of values, `value` is missing about 1.6% of its values, and `cpi2010` is missing about 7% of its values. This data is missing because the country did not report its gdp/cpi that year.\n",
    "\n",
    "One interesting thing of note is that year is not continuous for all countries. Some countries did not report anything for certain years; therefore, we need to keep track of these gap years."
   ]
  },
  {
   "cell_type": "markdown",
   "metadata": {},
   "source": [
    "#### **Variable Summaries:**"
   ]
  },
  {
   "attachments": {},
   "cell_type": "markdown",
   "metadata": {},
   "source": [
    "Alot of our variables are binary factors; so we will take a look at the most important variables of interest: `gdppc2015`, `cpi2010`, and `prop`.\n",
    "\n",
    "Ideally, we would group these variables by years; however, we will not do so here for the sake of space, but keep in mind that the rest of the work will consider these variables in the respective year groups.\n",
    "\n",
    "Below are the count, mean, std, min, 25%, 50%, 75%, and max statistics for `gdppc2015`, `cpi2010`, and `prop`:"
   ]
  },
  {
   "cell_type": "code",
   "execution_count": 5,
   "metadata": {},
   "outputs": [
    {
     "data": {
      "text/html": [
       "<div>\n",
       "<style scoped>\n",
       "    .dataframe tbody tr th:only-of-type {\n",
       "        vertical-align: middle;\n",
       "    }\n",
       "\n",
       "    .dataframe tbody tr th {\n",
       "        vertical-align: top;\n",
       "    }\n",
       "\n",
       "    .dataframe thead th {\n",
       "        text-align: right;\n",
       "    }\n",
       "</style>\n",
       "<table border=\"1\" class=\"dataframe\">\n",
       "  <thead>\n",
       "    <tr style=\"text-align: right;\">\n",
       "      <th></th>\n",
       "      <th>gdppc2015</th>\n",
       "      <th>cpi2010</th>\n",
       "      <th>prop</th>\n",
       "    </tr>\n",
       "  </thead>\n",
       "  <tbody>\n",
       "    <tr>\n",
       "      <th>count</th>\n",
       "      <td>22284.000000</td>\n",
       "      <td>20952.000000</td>\n",
       "      <td>22176.000000</td>\n",
       "    </tr>\n",
       "    <tr>\n",
       "      <th>mean</th>\n",
       "      <td>2570.711876</td>\n",
       "      <td>82.319928</td>\n",
       "      <td>0.713313</td>\n",
       "    </tr>\n",
       "    <tr>\n",
       "      <th>std</th>\n",
       "      <td>2597.316331</td>\n",
       "      <td>48.889600</td>\n",
       "      <td>0.282070</td>\n",
       "    </tr>\n",
       "    <tr>\n",
       "      <th>min</th>\n",
       "      <td>236.461000</td>\n",
       "      <td>0.000000</td>\n",
       "      <td>0.000000</td>\n",
       "    </tr>\n",
       "    <tr>\n",
       "      <th>25%</th>\n",
       "      <td>751.473000</td>\n",
       "      <td>51.094000</td>\n",
       "      <td>0.526000</td>\n",
       "    </tr>\n",
       "    <tr>\n",
       "      <th>50%</th>\n",
       "      <td>1579.700000</td>\n",
       "      <td>79.160500</td>\n",
       "      <td>0.816500</td>\n",
       "    </tr>\n",
       "    <tr>\n",
       "      <th>75%</th>\n",
       "      <td>3674.354000</td>\n",
       "      <td>106.762000</td>\n",
       "      <td>0.955000</td>\n",
       "    </tr>\n",
       "    <tr>\n",
       "      <th>max</th>\n",
       "      <td>28693.063000</td>\n",
       "      <td>508.339000</td>\n",
       "      <td>1.000000</td>\n",
       "    </tr>\n",
       "  </tbody>\n",
       "</table>\n",
       "</div>"
      ],
      "text/plain": [
       "          gdppc2015       cpi2010          prop\n",
       "count  22284.000000  20952.000000  22176.000000\n",
       "mean    2570.711876     82.319928      0.713313\n",
       "std     2597.316331     48.889600      0.282070\n",
       "min      236.461000      0.000000      0.000000\n",
       "25%      751.473000     51.094000      0.526000\n",
       "50%     1579.700000     79.160500      0.816500\n",
       "75%     3674.354000    106.762000      0.955000\n",
       "max    28693.063000    508.339000      1.000000"
      ]
     },
     "execution_count": 5,
     "metadata": {},
     "output_type": "execute_result"
    }
   ],
   "source": [
    "data_tidy.loc[:, ['gdppc2015', 'cpi2010', 'prop']].describe()"
   ]
  },
  {
   "attachments": {},
   "cell_type": "markdown",
   "metadata": {},
   "source": [
    "The summary statistic alone is not enough to make initial generalizations about our data. As mentioned earlier, we should group the data by `year` and analyze the statistics of each `year`. We will briefly look at the statistics with consideration to year below in the `Exploratory Analysis` section."
   ]
  },
  {
   "cell_type": "markdown",
   "metadata": {},
   "source": [
    "### **Exploratory analysis**\n"
   ]
  },
  {
   "cell_type": "code",
   "execution_count": 6,
   "metadata": {},
   "outputs": [],
   "source": [
    "alt.data_transformers.enable('default', max_rows=None)\n",
    "from visualize import line_plot1, line_plot2, line_plot3, line_plot4"
   ]
  },
  {
   "cell_type": "markdown",
   "metadata": {},
   "source": [
    "#### Visualize Trends"
   ]
  },
  {
   "attachments": {},
   "cell_type": "markdown",
   "metadata": {},
   "source": [
    "We won't do any complex EDA here, but we will take a look at some trends of our statistics when grouped by `year` through some simple line charts."
   ]
  },
  {
   "cell_type": "markdown",
   "metadata": {},
   "source": [
    "#### 1) `Average CPI` against `year`"
   ]
  },
  {
   "attachments": {},
   "cell_type": "markdown",
   "metadata": {},
   "source": [
    "The following is the average `cpi2010` for all countries per year. Clearly, there is some positve correlation between `cpi2010` against `year`."
   ]
  },
  {
   "cell_type": "code",
   "execution_count": 7,
   "metadata": {},
   "outputs": [
    {
     "data": {
      "text/html": [
       "\n",
       "<div id=\"altair-viz-4c6a6102784a496b8db5f3023a38a935\"></div>\n",
       "<script type=\"text/javascript\">\n",
       "  var VEGA_DEBUG = (typeof VEGA_DEBUG == \"undefined\") ? {} : VEGA_DEBUG;\n",
       "  (function(spec, embedOpt){\n",
       "    let outputDiv = document.currentScript.previousElementSibling;\n",
       "    if (outputDiv.id !== \"altair-viz-4c6a6102784a496b8db5f3023a38a935\") {\n",
       "      outputDiv = document.getElementById(\"altair-viz-4c6a6102784a496b8db5f3023a38a935\");\n",
       "    }\n",
       "    const paths = {\n",
       "      \"vega\": \"https://cdn.jsdelivr.net/npm//vega@5?noext\",\n",
       "      \"vega-lib\": \"https://cdn.jsdelivr.net/npm//vega-lib?noext\",\n",
       "      \"vega-lite\": \"https://cdn.jsdelivr.net/npm//vega-lite@4.17.0?noext\",\n",
       "      \"vega-embed\": \"https://cdn.jsdelivr.net/npm//vega-embed@6?noext\",\n",
       "    };\n",
       "\n",
       "    function maybeLoadScript(lib, version) {\n",
       "      var key = `${lib.replace(\"-\", \"\")}_version`;\n",
       "      return (VEGA_DEBUG[key] == version) ?\n",
       "        Promise.resolve(paths[lib]) :\n",
       "        new Promise(function(resolve, reject) {\n",
       "          var s = document.createElement('script');\n",
       "          document.getElementsByTagName(\"head\")[0].appendChild(s);\n",
       "          s.async = true;\n",
       "          s.onload = () => {\n",
       "            VEGA_DEBUG[key] = version;\n",
       "            return resolve(paths[lib]);\n",
       "          };\n",
       "          s.onerror = () => reject(`Error loading script: ${paths[lib]}`);\n",
       "          s.src = paths[lib];\n",
       "        });\n",
       "    }\n",
       "\n",
       "    function showError(err) {\n",
       "      outputDiv.innerHTML = `<div class=\"error\" style=\"color:red;\">${err}</div>`;\n",
       "      throw err;\n",
       "    }\n",
       "\n",
       "    function displayChart(vegaEmbed) {\n",
       "      vegaEmbed(outputDiv, spec, embedOpt)\n",
       "        .catch(err => showError(`Javascript Error: ${err.message}<br>This usually means there's a typo in your chart specification. See the javascript console for the full traceback.`));\n",
       "    }\n",
       "\n",
       "    if(typeof define === \"function\" && define.amd) {\n",
       "      requirejs.config({paths});\n",
       "      require([\"vega-embed\"], displayChart, err => showError(`Error loading script: ${err.message}`));\n",
       "    } else {\n",
       "      maybeLoadScript(\"vega\", \"5\")\n",
       "        .then(() => maybeLoadScript(\"vega-lite\", \"4.17.0\"))\n",
       "        .then(() => maybeLoadScript(\"vega-embed\", \"6\"))\n",
       "        .catch(showError)\n",
       "        .then(() => displayChart(vegaEmbed));\n",
       "    }\n",
       "  })({\"config\": {\"view\": {\"continuousWidth\": 400, \"continuousHeight\": 300}}, \"data\": {\"name\": \"data-37fafa5f57d20b666976bb21f2fbc39c\"}, \"mark\": \"line\", \"encoding\": {\"x\": {\"field\": \"year\", \"type\": \"nominal\"}, \"y\": {\"field\": \"cpi2010\", \"title\": \"Average Global CPI\", \"type\": \"quantitative\"}}, \"height\": 200, \"width\": 400, \"$schema\": \"https://vega.github.io/schema/vega-lite/v4.17.0.json\", \"datasets\": {\"data-37fafa5f57d20b666976bb21f2fbc39c\": [{\"year\": 1981, \"cpi2010\": 0.0}, {\"year\": 1985, \"cpi2010\": 0.0}, {\"year\": 1989, \"cpi2010\": 18.569666666666635}, {\"year\": 1990, \"cpi2010\": 21.493625000000044}, {\"year\": 1991, \"cpi2010\": 28.52059999999994}, {\"year\": 1992, \"cpi2010\": 29.12620000000001}, {\"year\": 1993, \"cpi2010\": 22.43400000000003}, {\"year\": 1994, \"cpi2010\": 37.19018181818171}, {\"year\": 1995, \"cpi2010\": 37.65093750000008}, {\"year\": 1996, \"cpi2010\": 39.81882352941171}, {\"year\": 1997, \"cpi2010\": 48.614999999999924}, {\"year\": 1998, \"cpi2010\": 52.64054545454539}, {\"year\": 1999, \"cpi2010\": 38.298090909090924}, {\"year\": 2000, \"cpi2010\": 54.083358490565956}, {\"year\": 2001, \"cpi2010\": 52.1206363636364}, {\"year\": 2002, \"cpi2010\": 62.467000000000034}, {\"year\": 2003, \"cpi2010\": 64.10633333333347}, {\"year\": 2004, \"cpi2010\": 68.50353333333341}, {\"year\": 2005, \"cpi2010\": 70.44200000000036}, {\"year\": 2006, \"cpi2010\": 78.62430555555622}, {\"year\": 2007, \"cpi2010\": 78.92084999999983}, {\"year\": 2008, \"cpi2010\": 85.81724999999996}, {\"year\": 2009, \"cpi2010\": 95.6476111111109}, {\"year\": 2010, \"cpi2010\": 100.0}, {\"year\": 2011, \"cpi2010\": 108.21550000000019}, {\"year\": 2012, \"cpi2010\": 113.1830833333331}, {\"year\": 2013, \"cpi2010\": 124.28237499999997}, {\"year\": 2014, \"cpi2010\": 130.0947600000002}, {\"year\": 2015, \"cpi2010\": 137.6732142857142}, {\"year\": 2016, \"cpi2010\": 153.5116923076928}, {\"year\": 2017, \"cpi2010\": 148.8585000000004}, {\"year\": 2018, \"cpi2010\": 149.0267500000004}, {\"year\": 2019, \"cpi2010\": 193.6835882352945}, {\"year\": 2020, \"cpi2010\": 161.28449999999987}]}}, {\"mode\": \"vega-lite\"});\n",
       "</script>"
      ],
      "text/plain": [
       "alt.Chart(...)"
      ]
     },
     "execution_count": 7,
     "metadata": {},
     "output_type": "execute_result"
    }
   ],
   "source": [
    "line_plot1(data_tidy)"
   ]
  },
  {
   "cell_type": "markdown",
   "metadata": {},
   "source": [
    "#### 2) `Average prop of kids that completed grades(1-9)` against `year`"
   ]
  },
  {
   "attachments": {},
   "cell_type": "markdown",
   "metadata": {},
   "source": [
    "Again the chart below show some relationship between `prop` against `year`."
   ]
  },
  {
   "cell_type": "code",
   "execution_count": 8,
   "metadata": {},
   "outputs": [
    {
     "data": {
      "text/html": [
       "\n",
       "<div id=\"altair-viz-a5ebfc1f50b749759b20c7dd1c2aab9a\"></div>\n",
       "<script type=\"text/javascript\">\n",
       "  var VEGA_DEBUG = (typeof VEGA_DEBUG == \"undefined\") ? {} : VEGA_DEBUG;\n",
       "  (function(spec, embedOpt){\n",
       "    let outputDiv = document.currentScript.previousElementSibling;\n",
       "    if (outputDiv.id !== \"altair-viz-a5ebfc1f50b749759b20c7dd1c2aab9a\") {\n",
       "      outputDiv = document.getElementById(\"altair-viz-a5ebfc1f50b749759b20c7dd1c2aab9a\");\n",
       "    }\n",
       "    const paths = {\n",
       "      \"vega\": \"https://cdn.jsdelivr.net/npm//vega@5?noext\",\n",
       "      \"vega-lib\": \"https://cdn.jsdelivr.net/npm//vega-lib?noext\",\n",
       "      \"vega-lite\": \"https://cdn.jsdelivr.net/npm//vega-lite@4.17.0?noext\",\n",
       "      \"vega-embed\": \"https://cdn.jsdelivr.net/npm//vega-embed@6?noext\",\n",
       "    };\n",
       "\n",
       "    function maybeLoadScript(lib, version) {\n",
       "      var key = `${lib.replace(\"-\", \"\")}_version`;\n",
       "      return (VEGA_DEBUG[key] == version) ?\n",
       "        Promise.resolve(paths[lib]) :\n",
       "        new Promise(function(resolve, reject) {\n",
       "          var s = document.createElement('script');\n",
       "          document.getElementsByTagName(\"head\")[0].appendChild(s);\n",
       "          s.async = true;\n",
       "          s.onload = () => {\n",
       "            VEGA_DEBUG[key] = version;\n",
       "            return resolve(paths[lib]);\n",
       "          };\n",
       "          s.onerror = () => reject(`Error loading script: ${paths[lib]}`);\n",
       "          s.src = paths[lib];\n",
       "        });\n",
       "    }\n",
       "\n",
       "    function showError(err) {\n",
       "      outputDiv.innerHTML = `<div class=\"error\" style=\"color:red;\">${err}</div>`;\n",
       "      throw err;\n",
       "    }\n",
       "\n",
       "    function displayChart(vegaEmbed) {\n",
       "      vegaEmbed(outputDiv, spec, embedOpt)\n",
       "        .catch(err => showError(`Javascript Error: ${err.message}<br>This usually means there's a typo in your chart specification. See the javascript console for the full traceback.`));\n",
       "    }\n",
       "\n",
       "    if(typeof define === \"function\" && define.amd) {\n",
       "      requirejs.config({paths});\n",
       "      require([\"vega-embed\"], displayChart, err => showError(`Error loading script: ${err.message}`));\n",
       "    } else {\n",
       "      maybeLoadScript(\"vega\", \"5\")\n",
       "        .then(() => maybeLoadScript(\"vega-lite\", \"4.17.0\"))\n",
       "        .then(() => maybeLoadScript(\"vega-embed\", \"6\"))\n",
       "        .catch(showError)\n",
       "        .then(() => displayChart(vegaEmbed));\n",
       "    }\n",
       "  })({\"config\": {\"view\": {\"continuousWidth\": 400, \"continuousHeight\": 300}}, \"data\": {\"name\": \"data-ae00254ddc9f9566ef2ca062a65c6745\"}, \"mark\": \"line\", \"encoding\": {\"x\": {\"field\": \"year\", \"type\": \"nominal\"}, \"y\": {\"field\": \"prop\", \"scale\": {\"zero\": false}, \"title\": \"Avg Prop. of Kids that completed grades 1-9\", \"type\": \"quantitative\"}}, \"height\": 200, \"width\": 400, \"$schema\": \"https://vega.github.io/schema/vega-lite/v4.17.0.json\", \"datasets\": {\"data-ae00254ddc9f9566ef2ca062a65c6745\": [{\"year\": 1981, \"prop\": 0.46549999999999986}, {\"year\": 1985, \"prop\": 0.4815277777777779}, {\"year\": 1989, \"prop\": 0.7853611111111107}, {\"year\": 1990, \"prop\": 0.740281746031746}, {\"year\": 1991, \"prop\": 0.6496722222222217}, {\"year\": 1992, \"prop\": 0.5896309523809516}, {\"year\": 1993, \"prop\": 0.6957373737373742}, {\"year\": 1994, \"prop\": 0.6128589743589742}, {\"year\": 1995, \"prop\": 0.6877187500000007}, {\"year\": 1996, \"prop\": 0.6343664021164019}, {\"year\": 1997, \"prop\": 0.67530753968254}, {\"year\": 1998, \"prop\": 0.6443634259259255}, {\"year\": 1999, \"prop\": 0.6888931623931621}, {\"year\": 2000, \"prop\": 0.661070175438598}, {\"year\": 2001, \"prop\": 0.6178106060606053}, {\"year\": 2002, \"prop\": 0.8059243827160493}, {\"year\": 2003, \"prop\": 0.6420169753086418}, {\"year\": 2004, \"prop\": 0.6730759259259261}, {\"year\": 2005, \"prop\": 0.698635582010581}, {\"year\": 2006, \"prop\": 0.7362507507507514}, {\"year\": 2007, \"prop\": 0.7039166666666669}, {\"year\": 2008, \"prop\": 0.7034565972222215}, {\"year\": 2009, \"prop\": 0.8380864197530857}, {\"year\": 2010, \"prop\": 0.7022948028673842}, {\"year\": 2011, \"prop\": 0.748766666666668}, {\"year\": 2012, \"prop\": 0.7801250000000007}, {\"year\": 2013, \"prop\": 0.7713194444444444}, {\"year\": 2014, \"prop\": 0.7814411111111099}, {\"year\": 2015, \"prop\": 0.8076909722222213}, {\"year\": 2016, \"prop\": 0.7395619658119654}, {\"year\": 2017, \"prop\": 0.8074660493827159}, {\"year\": 2018, \"prop\": 0.7831388888888894}, {\"year\": 2019, \"prop\": 0.8277717391304354}, {\"year\": 2020, \"prop\": 0.7250972222222223}]}}, {\"mode\": \"vega-lite\"});\n",
       "</script>"
      ],
      "text/plain": [
       "alt.Chart(...)"
      ]
     },
     "execution_count": 8,
     "metadata": {},
     "output_type": "execute_result"
    }
   ],
   "source": [
    "line_plot2(data_tidy)"
   ]
  },
  {
   "attachments": {},
   "cell_type": "markdown",
   "metadata": {},
   "source": [
    "The natural followup question to plot-2 is whether `sex` and `location` of the kids affect the `prop`.\n",
    "\n",
    "Below are two plots of plot-2 faceted by `sex` and `location` respectively:"
   ]
  },
  {
   "cell_type": "markdown",
   "metadata": {},
   "source": [
    "#### 3) `plot2` faceted by `sex`"
   ]
  },
  {
   "cell_type": "code",
   "execution_count": 9,
   "metadata": {},
   "outputs": [
    {
     "data": {
      "text/html": [
       "\n",
       "<div id=\"altair-viz-e7721390734f49d6991ff8e686edbc78\"></div>\n",
       "<script type=\"text/javascript\">\n",
       "  var VEGA_DEBUG = (typeof VEGA_DEBUG == \"undefined\") ? {} : VEGA_DEBUG;\n",
       "  (function(spec, embedOpt){\n",
       "    let outputDiv = document.currentScript.previousElementSibling;\n",
       "    if (outputDiv.id !== \"altair-viz-e7721390734f49d6991ff8e686edbc78\") {\n",
       "      outputDiv = document.getElementById(\"altair-viz-e7721390734f49d6991ff8e686edbc78\");\n",
       "    }\n",
       "    const paths = {\n",
       "      \"vega\": \"https://cdn.jsdelivr.net/npm//vega@5?noext\",\n",
       "      \"vega-lib\": \"https://cdn.jsdelivr.net/npm//vega-lib?noext\",\n",
       "      \"vega-lite\": \"https://cdn.jsdelivr.net/npm//vega-lite@4.17.0?noext\",\n",
       "      \"vega-embed\": \"https://cdn.jsdelivr.net/npm//vega-embed@6?noext\",\n",
       "    };\n",
       "\n",
       "    function maybeLoadScript(lib, version) {\n",
       "      var key = `${lib.replace(\"-\", \"\")}_version`;\n",
       "      return (VEGA_DEBUG[key] == version) ?\n",
       "        Promise.resolve(paths[lib]) :\n",
       "        new Promise(function(resolve, reject) {\n",
       "          var s = document.createElement('script');\n",
       "          document.getElementsByTagName(\"head\")[0].appendChild(s);\n",
       "          s.async = true;\n",
       "          s.onload = () => {\n",
       "            VEGA_DEBUG[key] = version;\n",
       "            return resolve(paths[lib]);\n",
       "          };\n",
       "          s.onerror = () => reject(`Error loading script: ${paths[lib]}`);\n",
       "          s.src = paths[lib];\n",
       "        });\n",
       "    }\n",
       "\n",
       "    function showError(err) {\n",
       "      outputDiv.innerHTML = `<div class=\"error\" style=\"color:red;\">${err}</div>`;\n",
       "      throw err;\n",
       "    }\n",
       "\n",
       "    function displayChart(vegaEmbed) {\n",
       "      vegaEmbed(outputDiv, spec, embedOpt)\n",
       "        .catch(err => showError(`Javascript Error: ${err.message}<br>This usually means there's a typo in your chart specification. See the javascript console for the full traceback.`));\n",
       "    }\n",
       "\n",
       "    if(typeof define === \"function\" && define.amd) {\n",
       "      requirejs.config({paths});\n",
       "      require([\"vega-embed\"], displayChart, err => showError(`Error loading script: ${err.message}`));\n",
       "    } else {\n",
       "      maybeLoadScript(\"vega\", \"5\")\n",
       "        .then(() => maybeLoadScript(\"vega-lite\", \"4.17.0\"))\n",
       "        .then(() => maybeLoadScript(\"vega-embed\", \"6\"))\n",
       "        .catch(showError)\n",
       "        .then(() => displayChart(vegaEmbed));\n",
       "    }\n",
       "  })({\"config\": {\"view\": {\"continuousWidth\": 400, \"continuousHeight\": 300}}, \"data\": {\"name\": \"data-9fde563b6f95a79eb4a9309b9d47132d\"}, \"facet\": {\"column\": {\"field\": \"sex\", \"type\": \"nominal\"}}, \"spec\": {\"mark\": \"line\", \"encoding\": {\"x\": {\"field\": \"year\", \"type\": \"nominal\"}, \"y\": {\"field\": \"prop\", \"scale\": {\"zero\": false}, \"title\": \"Avg Prop. of Kids that completed grades 1-9\", \"type\": \"quantitative\"}}, \"height\": 200, \"width\": 400}, \"$schema\": \"https://vega.github.io/schema/vega-lite/v4.17.0.json\", \"datasets\": {\"data-9fde563b6f95a79eb4a9309b9d47132d\": [{\"year\": 1981, \"sex\": \"Female\", \"prop\": 0.48227777777777775}, {\"year\": 1981, \"sex\": \"Male\", \"prop\": 0.4487222222222223}, {\"year\": 1985, \"sex\": \"Female\", \"prop\": 0.5052777777777779}, {\"year\": 1985, \"sex\": \"Male\", \"prop\": 0.4577777777777778}, {\"year\": 1989, \"sex\": \"Female\", \"prop\": 0.7828518518518519}, {\"year\": 1989, \"sex\": \"Male\", \"prop\": 0.7878703703703704}, {\"year\": 1990, \"sex\": \"Female\", \"prop\": 0.7344206349206346}, {\"year\": 1990, \"sex\": \"Male\", \"prop\": 0.7461428571428574}, {\"year\": 1991, \"sex\": \"Female\", \"prop\": 0.648438888888889}, {\"year\": 1991, \"sex\": \"Male\", \"prop\": 0.6509055555555553}, {\"year\": 1992, \"sex\": \"Female\", \"prop\": 0.5595158730158729}, {\"year\": 1992, \"sex\": \"Male\", \"prop\": 0.6197460317460314}, {\"year\": 1993, \"sex\": \"Female\", \"prop\": 0.6905303030303032}, {\"year\": 1993, \"sex\": \"Male\", \"prop\": 0.7009444444444446}, {\"year\": 1994, \"sex\": \"Female\", \"prop\": 0.5789871794871796}, {\"year\": 1994, \"sex\": \"Male\", \"prop\": 0.6467307692307686}, {\"year\": 1995, \"sex\": \"Female\", \"prop\": 0.6861076388888887}, {\"year\": 1995, \"sex\": \"Male\", \"prop\": 0.6893298611111117}, {\"year\": 1996, \"sex\": \"Female\", \"prop\": 0.6189206349206353}, {\"year\": 1996, \"sex\": \"Male\", \"prop\": 0.649812169312169}, {\"year\": 1997, \"sex\": \"Female\", \"prop\": 0.6572738095238095}, {\"year\": 1997, \"sex\": \"Male\", \"prop\": 0.6933412698412699}, {\"year\": 1998, \"sex\": \"Female\", \"prop\": 0.6187013888888891}, {\"year\": 1998, \"sex\": \"Male\", \"prop\": 0.6700254629629621}, {\"year\": 1999, \"sex\": \"Female\", \"prop\": 0.6780641025641022}, {\"year\": 1999, \"sex\": \"Male\", \"prop\": 0.6997222222222219}, {\"year\": 2000, \"sex\": \"Female\", \"prop\": 0.6508576998050679}, {\"year\": 2000, \"sex\": \"Male\", \"prop\": 0.671282651072126}, {\"year\": 2001, \"sex\": \"Female\", \"prop\": 0.6038914141414146}, {\"year\": 2001, \"sex\": \"Male\", \"prop\": 0.6317297979797978}, {\"year\": 2002, \"sex\": \"Female\", \"prop\": 0.7994845679012348}, {\"year\": 2002, \"sex\": \"Male\", \"prop\": 0.8123641975308638}, {\"year\": 2003, \"sex\": \"Female\", \"prop\": 0.6127993827160494}, {\"year\": 2003, \"sex\": \"Male\", \"prop\": 0.6712345679012349}, {\"year\": 2004, \"sex\": \"Female\", \"prop\": 0.6587925925925928}, {\"year\": 2004, \"sex\": \"Male\", \"prop\": 0.6873592592592587}, {\"year\": 2005, \"sex\": \"Female\", \"prop\": 0.6868518518518526}, {\"year\": 2005, \"sex\": \"Male\", \"prop\": 0.7104193121693131}, {\"year\": 2006, \"sex\": \"Female\", \"prop\": 0.7207477477477481}, {\"year\": 2006, \"sex\": \"Male\", \"prop\": 0.7517537537537542}, {\"year\": 2007, \"sex\": \"Female\", \"prop\": 0.6909912280701758}, {\"year\": 2007, \"sex\": \"Male\", \"prop\": 0.7168421052631582}, {\"year\": 2008, \"sex\": \"Female\", \"prop\": 0.6833437499999999}, {\"year\": 2008, \"sex\": \"Male\", \"prop\": 0.7235694444444446}, {\"year\": 2009, \"sex\": \"Female\", \"prop\": 0.8501358024691354}, {\"year\": 2009, \"sex\": \"Male\", \"prop\": 0.8260370370370371}, {\"year\": 2010, \"sex\": \"Female\", \"prop\": 0.6895501792114703}, {\"year\": 2010, \"sex\": \"Male\", \"prop\": 0.7150394265232982}, {\"year\": 2011, \"sex\": \"Female\", \"prop\": 0.7428777777777775}, {\"year\": 2011, \"sex\": \"Male\", \"prop\": 0.7546555555555554}, {\"year\": 2012, \"sex\": \"Female\", \"prop\": 0.7766759259259263}, {\"year\": 2012, \"sex\": \"Male\", \"prop\": 0.7835740740740741}, {\"year\": 2013, \"sex\": \"Female\", \"prop\": 0.7704201388888884}, {\"year\": 2013, \"sex\": \"Male\", \"prop\": 0.7722187500000001}, {\"year\": 2014, \"sex\": \"Female\", \"prop\": 0.7814888888888885}, {\"year\": 2014, \"sex\": \"Male\", \"prop\": 0.7813933333333339}, {\"year\": 2015, \"sex\": \"Female\", \"prop\": 0.8000833333333329}, {\"year\": 2015, \"sex\": \"Male\", \"prop\": 0.8152986111111111}, {\"year\": 2016, \"sex\": \"Female\", \"prop\": 0.7316965811965813}, {\"year\": 2016, \"sex\": \"Male\", \"prop\": 0.7474273504273506}, {\"year\": 2017, \"sex\": \"Female\", \"prop\": 0.7994197530864195}, {\"year\": 2017, \"sex\": \"Male\", \"prop\": 0.8155123456790123}, {\"year\": 2018, \"sex\": \"Female\", \"prop\": 0.7807676767676774}, {\"year\": 2018, \"sex\": \"Male\", \"prop\": 0.785510101010101}, {\"year\": 2019, \"sex\": \"Female\", \"prop\": 0.8374106280193242}, {\"year\": 2019, \"sex\": \"Male\", \"prop\": 0.8181328502415465}, {\"year\": 2020, \"sex\": \"Female\", \"prop\": 0.7299444444444443}, {\"year\": 2020, \"sex\": \"Male\", \"prop\": 0.7202499999999998}]}}, {\"mode\": \"vega-lite\"});\n",
       "</script>"
      ],
      "text/plain": [
       "alt.FacetChart(...)"
      ]
     },
     "execution_count": 9,
     "metadata": {},
     "output_type": "execute_result"
    }
   ],
   "source": [
    "line_plot3(data_tidy)"
   ]
  },
  {
   "cell_type": "markdown",
   "metadata": {},
   "source": [
    "#### 4) `plot2` faeted by `location`"
   ]
  },
  {
   "cell_type": "code",
   "execution_count": 10,
   "metadata": {},
   "outputs": [
    {
     "data": {
      "text/html": [
       "\n",
       "<div id=\"altair-viz-1a68c881f1f24e2789a817392dcdea83\"></div>\n",
       "<script type=\"text/javascript\">\n",
       "  var VEGA_DEBUG = (typeof VEGA_DEBUG == \"undefined\") ? {} : VEGA_DEBUG;\n",
       "  (function(spec, embedOpt){\n",
       "    let outputDiv = document.currentScript.previousElementSibling;\n",
       "    if (outputDiv.id !== \"altair-viz-1a68c881f1f24e2789a817392dcdea83\") {\n",
       "      outputDiv = document.getElementById(\"altair-viz-1a68c881f1f24e2789a817392dcdea83\");\n",
       "    }\n",
       "    const paths = {\n",
       "      \"vega\": \"https://cdn.jsdelivr.net/npm//vega@5?noext\",\n",
       "      \"vega-lib\": \"https://cdn.jsdelivr.net/npm//vega-lib?noext\",\n",
       "      \"vega-lite\": \"https://cdn.jsdelivr.net/npm//vega-lite@4.17.0?noext\",\n",
       "      \"vega-embed\": \"https://cdn.jsdelivr.net/npm//vega-embed@6?noext\",\n",
       "    };\n",
       "\n",
       "    function maybeLoadScript(lib, version) {\n",
       "      var key = `${lib.replace(\"-\", \"\")}_version`;\n",
       "      return (VEGA_DEBUG[key] == version) ?\n",
       "        Promise.resolve(paths[lib]) :\n",
       "        new Promise(function(resolve, reject) {\n",
       "          var s = document.createElement('script');\n",
       "          document.getElementsByTagName(\"head\")[0].appendChild(s);\n",
       "          s.async = true;\n",
       "          s.onload = () => {\n",
       "            VEGA_DEBUG[key] = version;\n",
       "            return resolve(paths[lib]);\n",
       "          };\n",
       "          s.onerror = () => reject(`Error loading script: ${paths[lib]}`);\n",
       "          s.src = paths[lib];\n",
       "        });\n",
       "    }\n",
       "\n",
       "    function showError(err) {\n",
       "      outputDiv.innerHTML = `<div class=\"error\" style=\"color:red;\">${err}</div>`;\n",
       "      throw err;\n",
       "    }\n",
       "\n",
       "    function displayChart(vegaEmbed) {\n",
       "      vegaEmbed(outputDiv, spec, embedOpt)\n",
       "        .catch(err => showError(`Javascript Error: ${err.message}<br>This usually means there's a typo in your chart specification. See the javascript console for the full traceback.`));\n",
       "    }\n",
       "\n",
       "    if(typeof define === \"function\" && define.amd) {\n",
       "      requirejs.config({paths});\n",
       "      require([\"vega-embed\"], displayChart, err => showError(`Error loading script: ${err.message}`));\n",
       "    } else {\n",
       "      maybeLoadScript(\"vega\", \"5\")\n",
       "        .then(() => maybeLoadScript(\"vega-lite\", \"4.17.0\"))\n",
       "        .then(() => maybeLoadScript(\"vega-embed\", \"6\"))\n",
       "        .catch(showError)\n",
       "        .then(() => displayChart(vegaEmbed));\n",
       "    }\n",
       "  })({\"config\": {\"view\": {\"continuousWidth\": 400, \"continuousHeight\": 300}}, \"data\": {\"name\": \"data-4c72be876880fa653f9dcfc6ce21c8f5\"}, \"facet\": {\"column\": {\"field\": \"location\", \"type\": \"nominal\"}}, \"spec\": {\"mark\": \"line\", \"encoding\": {\"x\": {\"field\": \"year\", \"type\": \"nominal\"}, \"y\": {\"field\": \"prop\", \"scale\": {\"zero\": false}, \"title\": \"Avg Prop. of Kids that completed grades 1-9\", \"type\": \"quantitative\"}}, \"height\": 200, \"width\": 400}, \"$schema\": \"https://vega.github.io/schema/vega-lite/v4.17.0.json\", \"datasets\": {\"data-4c72be876880fa653f9dcfc6ce21c8f5\": [{\"year\": 1981, \"location\": \"Rural\", \"prop\": 0.3276111111111112}, {\"year\": 1981, \"location\": \"Urban\", \"prop\": 0.6033888888888889}, {\"year\": 1985, \"location\": \"Rural\", \"prop\": 0.3488333333333334}, {\"year\": 1985, \"location\": \"Urban\", \"prop\": 0.6142222222222222}, {\"year\": 1989, \"location\": \"Rural\", \"prop\": 0.7141296296296296}, {\"year\": 1989, \"location\": \"Urban\", \"prop\": 0.8565925925925926}, {\"year\": 1990, \"location\": \"Rural\", \"prop\": 0.6595158730158733}, {\"year\": 1990, \"location\": \"Urban\", \"prop\": 0.8210476190476189}, {\"year\": 1991, \"location\": \"Rural\", \"prop\": 0.5424111111111111}, {\"year\": 1991, \"location\": \"Urban\", \"prop\": 0.7569333333333331}, {\"year\": 1992, \"location\": \"Rural\", \"prop\": 0.4696865079365077}, {\"year\": 1992, \"location\": \"Urban\", \"prop\": 0.709575396825397}, {\"year\": 1993, \"location\": \"Rural\", \"prop\": 0.6025101010101014}, {\"year\": 1993, \"location\": \"Urban\", \"prop\": 0.7889646464646465}, {\"year\": 1994, \"location\": \"Rural\", \"prop\": 0.5064914529914534}, {\"year\": 1994, \"location\": \"Urban\", \"prop\": 0.7192264957264952}, {\"year\": 1995, \"location\": \"Rural\", \"prop\": 0.5856736111111108}, {\"year\": 1995, \"location\": \"Urban\", \"prop\": 0.7897638888888899}, {\"year\": 1996, \"location\": \"Rural\", \"prop\": 0.5307354497354498}, {\"year\": 1996, \"location\": \"Urban\", \"prop\": 0.7379973544973542}, {\"year\": 1997, \"location\": \"Rural\", \"prop\": 0.5905119047619048}, {\"year\": 1997, \"location\": \"Urban\", \"prop\": 0.7601031746031742}, {\"year\": 1998, \"location\": \"Rural\", \"prop\": 0.5479305555555561}, {\"year\": 1998, \"location\": \"Urban\", \"prop\": 0.740796296296296}, {\"year\": 1999, \"location\": \"Rural\", \"prop\": 0.5996282051282049}, {\"year\": 1999, \"location\": \"Urban\", \"prop\": 0.7781581196581195}, {\"year\": 2000, \"location\": \"Rural\", \"prop\": 0.5658576998050683}, {\"year\": 2000, \"location\": \"Urban\", \"prop\": 0.756282651072126}, {\"year\": 2001, \"location\": \"Rural\", \"prop\": 0.5040126262626262}, {\"year\": 2001, \"location\": \"Urban\", \"prop\": 0.7316085858585856}, {\"year\": 2002, \"location\": \"Rural\", \"prop\": 0.7451450617283948}, {\"year\": 2002, \"location\": \"Urban\", \"prop\": 0.8667037037037031}, {\"year\": 2003, \"location\": \"Rural\", \"prop\": 0.5375092592592591}, {\"year\": 2003, \"location\": \"Urban\", \"prop\": 0.7465246913580251}, {\"year\": 2004, \"location\": \"Rural\", \"prop\": 0.5895222222222216}, {\"year\": 2004, \"location\": \"Urban\", \"prop\": 0.7566296296296297}, {\"year\": 2005, \"location\": \"Rural\", \"prop\": 0.6226058201058209}, {\"year\": 2005, \"location\": \"Urban\", \"prop\": 0.7746653439153451}, {\"year\": 2006, \"location\": \"Rural\", \"prop\": 0.661337837837838}, {\"year\": 2006, \"location\": \"Urban\", \"prop\": 0.8111636636636635}, {\"year\": 2007, \"location\": \"Rural\", \"prop\": 0.6163274853801175}, {\"year\": 2007, \"location\": \"Urban\", \"prop\": 0.7915058479532163}, {\"year\": 2008, \"location\": \"Rural\", \"prop\": 0.6194201388888888}, {\"year\": 2008, \"location\": \"Urban\", \"prop\": 0.7874930555555558}, {\"year\": 2009, \"location\": \"Rural\", \"prop\": 0.7947808641975302}, {\"year\": 2009, \"location\": \"Urban\", \"prop\": 0.8813919753086422}, {\"year\": 2010, \"location\": \"Rural\", \"prop\": 0.626354838709678}, {\"year\": 2010, \"location\": \"Urban\", \"prop\": 0.7782347670250905}, {\"year\": 2011, \"location\": \"Rural\", \"prop\": 0.666179999999999}, {\"year\": 2011, \"location\": \"Urban\", \"prop\": 0.8313533333333335}, {\"year\": 2012, \"location\": \"Rural\", \"prop\": 0.7140023148148152}, {\"year\": 2012, \"location\": \"Urban\", \"prop\": 0.8462476851851851}, {\"year\": 2013, \"location\": \"Rural\", \"prop\": 0.7018090277777776}, {\"year\": 2013, \"location\": \"Urban\", \"prop\": 0.8408298611111112}, {\"year\": 2014, \"location\": \"Rural\", \"prop\": 0.7218044444444445}, {\"year\": 2014, \"location\": \"Urban\", \"prop\": 0.841077777777778}, {\"year\": 2015, \"location\": \"Rural\", \"prop\": 0.7455555555555553}, {\"year\": 2015, \"location\": \"Urban\", \"prop\": 0.869826388888889}, {\"year\": 2016, \"location\": \"Rural\", \"prop\": 0.656303418803419}, {\"year\": 2016, \"location\": \"Urban\", \"prop\": 0.8228205128205132}, {\"year\": 2017, \"location\": \"Rural\", \"prop\": 0.7535493827160491}, {\"year\": 2017, \"location\": \"Urban\", \"prop\": 0.8613827160493822}, {\"year\": 2018, \"location\": \"Rural\", \"prop\": 0.7140454545454549}, {\"year\": 2018, \"location\": \"Urban\", \"prop\": 0.852232323232323}, {\"year\": 2019, \"location\": \"Rural\", \"prop\": 0.7853599033816425}, {\"year\": 2019, \"location\": \"Urban\", \"prop\": 0.870183574879228}, {\"year\": 2020, \"location\": \"Rural\", \"prop\": 0.6423611111111109}, {\"year\": 2020, \"location\": \"Urban\", \"prop\": 0.8078333333333332}]}}, {\"mode\": \"vega-lite\"});\n",
       "</script>"
      ],
      "text/plain": [
       "alt.FacetChart(...)"
      ]
     },
     "execution_count": 10,
     "metadata": {},
     "output_type": "execute_result"
    }
   ],
   "source": [
    "line_plot4(data_tidy)"
   ]
  },
  {
   "attachments": {},
   "cell_type": "markdown",
   "metadata": {},
   "source": [
    "It's hard to tell the difference between Male and Female with this simple line chart, but we will explore their effects further in part two. On the other hand, it looks like kids in Urban areas retain a higher `prop` overall when compared to kids in Rural areas; we will explore this further in part two also."
   ]
  },
  {
   "cell_type": "markdown",
   "metadata": {},
   "source": [
    "---\n",
    "## 3. Planned work"
   ]
  },
  {
   "attachments": {},
   "cell_type": "markdown",
   "metadata": {},
   "source": [
    "### Questions\n",
    "\n",
    "1. Are there significant differences in educational attainment depending on wealth?\n",
    "2. Do gender and living standards affect a person's educational attainment? How can we expect educational attainment to change in the next few years due to gender and living standards?"
   ]
  },
  {
   "attachments": {},
   "cell_type": "markdown",
   "metadata": {},
   "source": [
    "### Proposed approaches\n",
    "\n",
    "1. For our first question we must explore the relationship between educational attainment and wealth. To explore this relationship it will be useful to first explore the distribution of each variable on its own. We would explore educational attainment by plotting against the observed proportion to see the proportion of the sample that attained the education at each grade level across all countries combined. We can then build a seperate scatterplot of our variables prop vs. gpdpc2015 where we can encode the points within the scatterplot to represent another variable such as the countries to give us more information about our data. \n",
    "\n",
    "2. For our second question we are looking into how gender and living standards affect educational attainment. For this question we would explore the relationship of these variables by plotting educational attainment vs year. We would encode each plot to show the proportion of attained education with a different line for each location (whether rural or urban) and be faceted by sex to allow us to have a more clear visual of any significant trends that are attributed to either sex or location. Given that earlier in this report we could see that there is a notable relationship between these variables, our next step would be to fit our data to a multiple linear regression model given that we have data for rural and urban locations seperately. After fitting our data would go back to creating a line plot similar to the one previosuly done, plotting prop vs year and mapping location to the color aesthetic. Lastly we would make use of the data given by our fitted regression model to predict how we would expect educational attainment to change in the next few years with our variables of interest. "
   ]
  },
  {
   "cell_type": "markdown",
   "metadata": {
    "tags": []
   },
   "source": [
    "---\n",
    "## Submission Checklist\n",
    "1. Save file to confirm all changes are on disk\n",
    "2. Run *Kernel > Restart & Run All* to execute all code from top to bottom\n",
    "3. Save file again to write any new output to disk\n",
    "4. Generate PDF and submit to Gradescope"
   ]
  }
 ],
 "metadata": {
  "kernelspec": {
   "display_name": "Python 3.10.6 64-bit",
   "language": "python",
   "name": "python3"
  },
  "language_info": {
   "codemirror_mode": {
    "name": "ipython",
    "version": 3
   },
   "file_extension": ".py",
   "mimetype": "text/x-python",
   "name": "python",
   "nbconvert_exporter": "python",
   "pygments_lexer": "ipython3",
   "version": "3.8.8"
  },
  "vscode": {
   "interpreter": {
    "hash": "b0fa6594d8f4cbf19f97940f81e996739fb7646882a419484c72d19e05852a7e"
   }
  }
 },
 "nbformat": 4,
 "nbformat_minor": 4
}
