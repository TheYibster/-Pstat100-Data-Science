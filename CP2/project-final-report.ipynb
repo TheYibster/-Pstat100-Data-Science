{
 "cells": [
  {
   "cell_type": "markdown",
   "metadata": {},
   "source": [
    "# Two Decades of Change in Education Around the World.\n",
    "\n",
    "**Yibo Liang**, **Aarya Kulkarni**, **Alan Su**, and **Nicole Magallanes Flores**\n",
    "\n",
    "#### Author contributions\n",
    "\n",
    "Yibo Liang contributed Methods and Results\n",
    "\n",
    "Aarya Kulkarni contributed Data Description and Discussion\n",
    "\n",
    "Alan Su contributed Discussion and Aims\n",
    "\n",
    "Nicole Magallanes Flores contributed Abstract an Background\n",
    "\n",
    "#### Abstract\n",
    "\n",
    "One of the most powerful tools that influences the skills, attitudes, and beliefs of individuals is education. With it playing a pivatol role in the shaping of the values and norms of a society, educational patterns are significant to study as they greatly vary across countries and populations. Through the use of a linear regression model and various visualization methods, this report analyses the Education Attainment and Enrollment Around the World dataset. The aim is to gain understanding of how our response variable, the proportions of educational attainment of youth 15 -19, are affected by different factors and which of those factors are the most impactful. The variables used within this dataset are year, gdp per capita, consumer price index, level of education, and location. Out of these variables we found that gdp per capita and the consumer price index were not significant in explaining our response variable, but that the variables level of education, year and sex were significant. Lastly we were able to identify some important trends within our analysis such as the positive correlation between the proportion of educational attainment and year, and the negative correlation of our response with the level variable."
   ]
  },
  {
   "cell_type": "markdown",
   "metadata": {},
   "source": [
    "---\n",
    "## Introduction\n",
    "\n",
    "\n",
    "### Background\n",
    "\n",
    "Education helps people become better citizens, develop critical thinking and gain a better understanding of the world. It is an important issue in every country around the world, as it is with education that people can help drive their country forward. While education is something many people seek, it is often not accesible to everyone, especially in countries that lack the necessary resources to invest in it. However, even if countries have the resources to make education accessible to all, certain populations choose to focus on other career choices such as continuing a family business or specialize in something that does not require traditional schooling. The dataset that we have chosen to work with is a dataset taken from The World Bank's data catalog, this dataset is on educational attainment and enrollment around the world. This data was collected from many types of surveys from all around the world in order to get information on factors such as socioeconomic conditions, or living standards (rural or urban). For the purpose of our analysis we will choose only certain variables within the dataset to focus on. We will explore how educational attainment is affected by conditions such as wealth, gender, and living location, and will explore this data across the years and the impact by sex, if any. The information we obtain from this study can allow us to gain a better understanding of the different educational trends across the world and push us to advocate for better educational attainment standards everywhere.\n",
    "\n",
    "### Aims\n",
    "\n",
    "In this project, we aim to explore educational attainment for youth across the world. How is educational attainment throughout the world affected by certain circumstances? Which types of circumstances affect youth educational attainment the most? In order to approach this issue, we made a linear regression model with proportion of youth as the response variable, and predictors such as location (urban or rural home), level of education, year, sex, and more. From this model, we also made several visualizations to get a better understanding of what the data looks like. Looking at our results, we found that the variables that affected the response the most were location and level, with year and sex as noteworthy variables. And while they still affect our model, gdp and cpi do not have as much impact as the other variables mentioned. In the following sections below, we will go into more detail about our project as a whole."
   ]
  },
  {
   "cell_type": "markdown",
   "metadata": {},
   "source": [
    "---\n",
    "## Materials and methods\n",
    "\n",
    "### Data description\n",
    "\n",
    "The data describes the percentage of population ages 15 to 19 that has completed each grade (1-9) in developing countries around the world from 1990 to 2020. This data was taken from a World Bank database with summary information about education level attained. The information was taken from household surveys from developing countries around the world (http://www.worldbank.org/en/research/brief/edattain). There were multiple different household-based surveys used to create this dataset. Some of which include: Demographic and Health Surveys (DHS- http://www.measuredhs.com), Multiple Indicator Cluster Surveys (MICS- http://www.childinfo.org), Living Standards Measurements Study Surveys (LSMS- http://www.worldbank.org/lsms), and other household-based surveys (ex: country specific socio-economic surveys). In addition to these household-based surveys, selected country/year variables were added to the dataset from the World Development Indicators database (http://databank.worldbank.org). Some variables added include gdp per capita (based on 2015 U.S. dollars) and the consumer price index (based on 2010) for various countries. \n",
    "\n",
    "The relevant population is the population ages 15-19 in the countries surveyed. Since the dataset is aggregated from multiple surveys. Some documentation was provided on two of the types of household surveys performed. Two survey methodologies are described next. The Demographic and Health Surveys (DHS) used a mix of questionnaires, biomarkers, and geographic information as survey tools to conduct this survey. This survey's sampling design consisted of a two-stage stratified cluster design in which Enumeration Areas (areas canvased) were drawn from Census files (stage 1), followed by a sample of households being drawn from a list in each Enumeration Area (stage 2). The Living Standards Measurement Study Surveys (LSMS)'s sample frame is given by the Population and Housing Census. Following this, a two round sampling method is used. The first round selects Primary Selection Units (PSU) through random sampling. The second round selects subunits from each PSU using a method of systematic sampling. Additionally, since the sampling frame is usually given by the country's Census, and the sampling mechanism involved random sampling, we can say that the scope of inference are the households captured in the Census.\n",
    "\n",
    "Through initial exploration of the data, we were able to get a sense of its shape and composition. The tidied data contains 22,536 observations and 8 variables. It is important to note that `gdppc2015` and `cpi2010` were missing some values due to countries not reporting gdp/cpi for given years. We were also able to find some trends through initial exploration of the data. The first trend was a positive correlation between `cpi2010` against `year`. Secondly, we were able to see a positive correlation between `prop` against `year`. Third, there is a negative relationship between `level` and `prop`. Lastly, we were able to facet the `prop` variable by `sex` and `location` and observe a positive correlation against `prop` and `year` in all levels (male/female and urban/rural) of these two binary factors.\n",
    "\n",
    "**Units and observations**: The observational units are 82 unique countries around the world from 1990 to 2020.\n",
    "\n",
    "**Variable descriptions**:\n",
    "\n",
    "Name | Variable description | Type | Units of measurement\n",
    "---|---|---|---\n",
    "country | observation country | Character | Name of Country \n",
    "year | year of observation | Numeric | Calendar year \n",
    "gdppc2015 | gdp per capita (2015 U.S. dollars) | Numeric | gdppc(dollars)\n",
    "cpi2010 | consumer price index (Based on 2010) | Numeric | cpi(hundreds) \n",
    "level | level of education | Numeric | grade \n",
    "sex | sex of the group of children aged 15-19 | Factor | none\n",
    "location | the location of the group of children aged 15-19 | Factor | none \n",
    "prop| proportion of the group of children aged 15-19 that attained an education | Numeric | pproportion\n",
    "\n",
    "### Methods\n",
    "\n",
    "In order to determined the relationships between of our response and predictors, we will begin by fitting a linear regression model on our data and assess the variable coefficients to determine our significant variables. To do this, we will use the 100 * `prop` (percentage) column as our response, and the rest of the variables as our predictor. We will dummy code our factor variables, impute missing values with column means, and turn our data frame into a design matrix. Furthermore, we will use the scikit-learn package to fit a mutiple linear regression on our design. After determining our significant variables, we will go on to communicate the effects of our significant variables with a few more in-depth visualizations. Finally, we will use our model to create a fitted line(prediction) against all significant variables. At the end, hopefully, we will see trends that describe the variation between `prop` of education in kids ages 15-19."
   ]
  },
  {
   "attachments": {},
   "cell_type": "markdown",
   "metadata": {},
   "source": [
    "---\n",
    "## Results\n",
    "\n",
    "### Linear Regression\n",
    "\n",
    "The Model below will be the model for our regression(the response is multiplied by 100 to reflect percentage):\n",
    "\n",
    "$$\n",
    "{\\displaystyle 100 * {Y} = {{\\beta_0} + {\\beta_1} * {\\operatorname {year}} + {\\beta_2} * {\\operatorname {gdppc2015}} + {\\beta_3} * {\\operatorname {cpi2015}} + {\\beta_4} * {\\operatorname {level}} + {\\beta_5} * {\\operatorname {sexMale}} + {\\beta_6} * {\\operatorname {level2}} + ... + {\\beta_{13}} * {\\operatorname {level9}}}} + \\epsilon\n",
    "$$\n",
    "\n",
    "(Table 1) The following table shows the coefficient estimates of our regression variables and their standard errors:\n",
    "\n",
    "<div>\n",
    "<img src=\"./Table.png\" width=\"300\" height=\"350\" />\n",
    "</div>\n",
    "\n",
    "The key takeaway here is that the euclidean distance of coefficient estimates for `location` and `level` are much greater; `year` and `sex` are also worth taking note of. Also, contrary to our initial explorations, `cpi2010` is not as impactful as we had believed; although still significant, `cpi2010` along with `gdppc2015` does not have a great effect on the response `prop`.\n",
    "\n",
    "Side Note:\n",
    "\n",
    "We justified our belief about the variables' significance through the use of standard errors and their confidence interals. Is 0 contained within the confidence interval?\n",
    "\n",
    "$$\n",
    "{\\displaystyle \\beta \\in \\left[{\\widehat {\\beta }}-se_{\\widehat {\\beta }}t_{n-p}^{*},\\ {\\widehat {\\beta }}+se_{\\widehat {\\beta }}t_{n-p}^{*}\\right]}\n",
    "$$\n",
    "\n",
    "\n",
    "\n",
    "### Visualization of Location and Year\n",
    "\n",
    "(Visual 1) The following visual depicts `prop` against `year` faceted by `location`(Y is in proportion scale):\n",
    "\n",
    "<div>\n",
    "<img src=\"./visualization.png\" width=\"800\" height=\"450\" />\n",
    "</div>\n",
    "\n",
    "Notice how average `prop` increases as `year` increases and notice how `Urban` areas have a higher overall mean for `prop`.\n",
    "\n",
    "### Visualization of median `prop` against all significant variables\n",
    "\n",
    "(Visual 2) The following visual depicts `prop` against `year` colored by `level` faceted by `location` and `sex`(Y is in proportion scale):\n",
    "\n",
    "<div>\n",
    "<img src=\"./visualization2.png\" width=\"800\" height=\"800\" />\n",
    "</div>\n",
    "\n",
    "Notice how average `prop` increases as `year` increases and notice how `Urban` areas have a higher overall mean for `prop`. Furthermore, notice how the average `prop` decreases as `level` decreases. Meanwhile, the `sex` factor does not have much of a visual difference.\n",
    "\n",
    "### Model Visualization with All Significant Variables\n",
    "\n",
    "(Visual 3) The following visual depicts our fitted model and a combination of the previous two visuals(Y is in percentage scale):\n",
    "\n",
    "<div>\n",
    "<img src=\"./visualization3.png\" width=\"800\" height=\"400\" />\n",
    "</div>\n",
    "\n",
    "Percentage of kids who attain an education is positively correlated to `year` and negatively correlated to `level`. Notice the slope of the lines and the difference between the lines of each `level`."
   ]
  },
  {
   "cell_type": "markdown",
   "metadata": {},
   "source": [
    "---\n",
    "## Discussion\n",
    "\n",
    "Starting off by looking at the Multiple Linear Regression (MLR) model that was fitted to our variables, we can see which variables had the most significant impact on the response (`prop`). We see that the variables that most significantly impact the response are `location` and `level`. More specifically, the estimated average proportion of the population who completed any given level of education, holding all other variables fixed, is 16.46 percent greater if an observation is in an urban location. Aditionally, the level with the greatest impact on the response (`prop`) is `level_9`. This can be interpreted in the following way: the estimated average proportion of the population who completed any given level of education, holding all other variables fixed, is 48.58 percent lower if an observation is refering to grade 9. We can also note that year and sex also have a higher impact on the response `prop` than other variables, although not as high as `location` and `level`. This regression model shows us that `gdppc2015` and `cpi2010` are not significant in explaining the response `prop`- we didn't focus on these in our further exploration. In (Visual 1) depicting `prop` against `year`, faceted by `location` we can see an upwards trend in `prop` over time for both levels of the location factor. However, observations in urban locations tend to have higher median proportion of youth who have an education than observations and lower variability than observations in rural locations. In (Visual 2), we can see that average`prop` for all levels of education tend to increase over the years. This plot also shows that urban areas have higher overall means for `prop` among all levels of education. For urban/rural and male/female, we can see a distinct trend that the average `prop` decreases as `level` increases. It also looks as if the difference in average proportion of youth that have attained a certain level of education seems to get especially large after ~ level 5. Our last model visualization (Visual 3) includes the significant variables `location`, `level` and `year`. It maintains that there is a positive correlation between percentage of kids who received an education and `year`. We can also see that `prop` is negatively correlated to `level`, as the difference between the lines for each level is increasing as level increases, supporting what earlier plots had shown as well. Our analysis supports the conclusion that in both urban and rural locations, and across male and female groups, the proportion of youth (15-19) that have attained education levels (1-9) has increased over time. We can also see that the proportion of youth that have attained education levels decreases as level increases from 1-9. Additionally, our findings indicate `gdppc2015` and `cpi2010` were not significant in explaining the proportion of youth that have attained education levels (1-9). \n"
   ]
  },
  {
   "cell_type": "markdown",
   "metadata": {},
   "source": [
    "When we did the initial research into this dataset, we thought that gdp and cpi would be big predictors for proportion of youth educational attainment, but our results tell us that they are not that significant in predicting `prop`. If we had to speculate on what could be the cause of this, one possible cause for this result could be that since we are analyzing educational attainment globally, with gdp and cpi being very country specific variables, it won't have as much of an effect as a variable such as sex or location, as these are global traits that are relatively the same within every country. Maybe if we were to study specific countries, gdp and cpi could show a different picture. To conclude the study, from our findings it is clear that educational attainment across the world and for both boys and girls has gotten better over time, at all levels of education, and in both urban and rural areas alike."
   ]
  },
  {
   "cell_type": "markdown",
   "metadata": {},
   "source": [
    "One final cavet is the R-squared value. We did not address our model R squared as it is outside the scope of this analysis. However, if we were to do this analysis again, we will want to optimized our R squared before making decisions based on our model!"
   ]
  }
 ],
 "metadata": {
  "kernelspec": {
   "display_name": "Python 3.10.10 64-bit",
   "language": "python",
   "name": "python3"
  },
  "language_info": {
   "codemirror_mode": {
    "name": "ipython",
    "version": 3
   },
   "file_extension": ".py",
   "mimetype": "text/x-python",
   "name": "python",
   "nbconvert_exporter": "python",
   "pygments_lexer": "ipython3",
   "version": "3.10.10"
  },
  "vscode": {
   "interpreter": {
    "hash": "bd385fe162c5ca0c84973b7dd5c518456272446b2b64e67c2a69f949ca7a1754"
   }
  }
 },
 "nbformat": 4,
 "nbformat_minor": 4
}
